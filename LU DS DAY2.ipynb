{
 "cells": [
  {
   "cell_type": "code",
   "execution_count": 6,
   "metadata": {},
   "outputs": [
    {
     "name": "stdout",
     "output_type": "stream",
     "text": [
      "1\n",
      "23\n",
      "4\n",
      "2\n",
      "14\n",
      "24\n",
      "2221\n",
      "5\n",
      "65\n",
      "76\n",
      "[4, 2, 14, 24, 76]\n"
     ]
    }
   ],
   "source": [
    "#Question1           \n",
    "#Answer1:\n",
    "list1=[]\n",
    "\n",
    "for i in range(10):                     \n",
    "    temp=int(input())               #inputing numbers\n",
    "    if(temp%2==0):                  #condition check\n",
    "        list1.append(temp)          #inserting appropriate numbers to the list\n",
    "print(list1)\n"
   ]
  },
  {
   "cell_type": "code",
   "execution_count": 23,
   "metadata": {
    "scrolled": false
   },
   "outputs": [
    {
     "name": "stdout",
     "output_type": "stream",
     "text": [
      "['D', 'r', 'o', 'n', 'C', 'h', 'a', 'n', 'd', 'n', 'a']\n",
      "['D', 'r', 'o', 'n', ' ', 'C', 'h', 'a', 'n', 'd', 'n', 'a']\n",
      "[1, 3, 5, 7, 9]\n",
      "[105, 126, 147, 168, 189]\n",
      "['Even', 'Odd', 'Even', 'Odd', 'Even', 'Odd', 'Even', 'Odd', 'Even', 'Odd']\n"
     ]
    }
   ],
   "source": [
    "#Question2\n",
    "#Answer2:\n",
    "#LIST COMPREHENSION\n",
    "#List Comprehensions are used for creating new lists from other iterables.\n",
    "#It is an elegant way to define and create lists based on existing lists.\n",
    "#It is generally more compact and faster than normal functions and loops used to create lists.\n",
    "#lets understand by using examples:\n",
    "\n",
    "#1 This is iterating through string using list comprehension\n",
    "l=[i for i in 'DronChandna']                               #syntax-> [expression for item 'string']\n",
    "print(l)\n",
    "\n",
    "#2 This is iterating through string using for loop\n",
    "l=[]\n",
    "\n",
    "for i in 'Dron Chandna':\n",
    "    l.append(i)\n",
    "print(l)\n",
    "\n",
    "#3 Using Conditionals with List Comprehension\n",
    "#I if statement\n",
    "l1=[i for i in range(10) if i%2!=0]\n",
    "print(l1)\n",
    "\n",
    "#II Nested if\n",
    "l2=[i for i in range(100,201) if i%3==0 if i%7==0]\n",
    "print(l2)\n",
    "\n",
    "#III if else\n",
    "l3=[\"Even\" if i%2==0 else \"Odd\" for i in range(10)]                          #remember syntax-> expression for item\n",
    "print(l3)\n",
    "\n",
    "#remember,Every list comprehension can be rewritten in for loop but vice versa is not true. \n"
   ]
  },
  {
   "cell_type": "code",
   "execution_count": 1,
   "metadata": {},
   "outputs": [
    {
     "name": "stdout",
     "output_type": "stream",
     "text": [
      "6\n",
      "{1: 1, 2: 4, 3: 9, 4: 16, 5: 25, 6: 36}\n"
     ]
    }
   ],
   "source": [
    "#Question3\n",
    "#Answer3:\n",
    "d={}\n",
    "n=int(input())\n",
    "for i in range(1,n+1):                  #for i, lower index=1 and upper index=n \n",
    "    d[i]=i*i                            #Syntax to add item in dictionary: dict_name[Key]=value\n",
    "print(d)\n",
    "\n",
    "\n",
    " "
   ]
  },
  {
   "cell_type": "code",
   "execution_count": null,
   "metadata": {},
   "outputs": [],
   "source": [
    "#Question4\n",
    "#Answer4:\n",
    "from math import sqrt\n",
    "\n",
    "n = int(input())\n",
    "\n",
    "x,y = 0, 0\n",
    "\n",
    "for i in range(1,n+1):\n",
    "    #direction, dist = input().split() \n",
    "    direction = input().split(' ')  \n",
    "    dist = int(dist)\n",
    "    if direction == 'Up':\n",
    "        y = y + dist\n",
    "    elif direction == 'Down':\n",
    "        y = y - dist\n",
    "    elif direction == 'Left':\n",
    "        x = x - dist\n",
    "    elif direction == 'Right':\n",
    "        x = x + dist\n",
    "    else:\n",
    "        print('Invalid Input')\n",
    "        break\n",
    "        \n",
    "distance = int(round(sqrt(x**2+y**2), 0))\n",
    "\n",
    "print(distance)\n"
   ]
  },
  {
   "cell_type": "code",
   "execution_count": null,
   "metadata": {},
   "outputs": [],
   "source": []
  },
  {
   "cell_type": "code",
   "execution_count": null,
   "metadata": {},
   "outputs": [],
   "source": []
  }
 ],
 "metadata": {
  "kernelspec": {
   "display_name": "Python 3",
   "language": "python",
   "name": "python3"
  }
 },
 "nbformat": 4,
 "nbformat_minor": 4
}
