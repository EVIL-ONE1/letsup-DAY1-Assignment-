{
 "cells": [
  {
   "cell_type": "markdown",
   "metadata": {},
   "source": [
    "# NUMPY (NUMERICAL PYTHON)"
   ]
  },
  {
   "cell_type": "code",
   "execution_count": 2,
   "metadata": {},
   "outputs": [],
   "source": [
    "import numpy"
   ]
  },
  {
   "cell_type": "code",
   "execution_count": 3,
   "metadata": {},
   "outputs": [
    {
     "name": "stdout",
     "output_type": "stream",
     "text": [
      "1.18.1\n"
     ]
    }
   ],
   "source": [
    "print(numpy.__version__)"
   ]
  },
  {
   "cell_type": "code",
   "execution_count": 4,
   "metadata": {},
   "outputs": [],
   "source": [
    "import numpy as np"
   ]
  },
  {
   "cell_type": "code",
   "execution_count": 5,
   "metadata": {},
   "outputs": [
    {
     "name": "stdout",
     "output_type": "stream",
     "text": [
      "1.18.1\n"
     ]
    }
   ],
   "source": [
    "print(np.__version__)"
   ]
  },
  {
   "cell_type": "code",
   "execution_count": 9,
   "metadata": {},
   "outputs": [
    {
     "data": {
      "text/plain": [
       "array([ 2,  5,  8, 11, 14, 17, 20, 23, 26, 29, 32, 35, 38, 41, 44, 47, 50])"
      ]
     },
     "execution_count": 9,
     "metadata": {},
     "output_type": "execute_result"
    }
   ],
   "source": [
    "#Question1\n",
    "#Answer1:\n",
    "arr1=np.array(range(2,51,3))\n",
    "arr1                                              #Thats how we can also print array in numpy "
   ]
  },
  {
   "cell_type": "code",
   "execution_count": 16,
   "metadata": {},
   "outputs": [
    {
     "name": "stdout",
     "output_type": "stream",
     "text": [
      "1\n",
      "2\n",
      "5\n",
      "2\n",
      "7\n",
      "\n",
      "\n",
      "0\n",
      "12\n",
      "6\n",
      "34\n",
      "23\n",
      "[ 1  2  5  2  7  0 12  6 34 23]\n",
      "[ 0  1  2  2  5  6  7 12 23 34]\n"
     ]
    }
   ],
   "source": [
    "#Question2\n",
    "#Answer2\n",
    "import numpy as np\n",
    "l1=[]\n",
    "l2=[]\n",
    "for i in range(5):\n",
    "    temp=int(input())\n",
    "    l1.append(temp)\n",
    "print(\"\\n\")\n",
    "for i in range(5):\n",
    "    temp=int(input())\n",
    "    l2.append(temp)\n",
    "arr1=np.array(l1)\n",
    "arr2=np.array(l2)\n",
    "print(np.concatenate((arr1,arr2)))\n",
    "print(np.sort(np.concatenate((arr1,arr2))))\n",
    "\n",
    "\n",
    "\n"
   ]
  },
  {
   "cell_type": "code",
   "execution_count": 21,
   "metadata": {},
   "outputs": [
    {
     "name": "stdout",
     "output_type": "stream",
     "text": [
      "[0 1 2 3]\n",
      "Dimension of array1:  1\n",
      "Size of array1: (4,)\n",
      "[[ 0  1  2  3]\n",
      " [ 4  5  6  7]\n",
      " [ 8  9 10 11]]\n",
      "Dimension of array2: 2\n",
      "Size of array2: (3, 4)\n"
     ]
    }
   ],
   "source": [
    "#Question3 HOW TO FIND DIMENSION OF NDARRAY AND ITS SIZE\n",
    "#Answer:\n",
    "import numpy as np                                   #importing numpy\n",
    "arr1=np.arange(4)\n",
    "print(arr1)\n",
    "print(\"Dimension of array1: \",arr1.ndim)               #Checking dimension of arr1,syntax->arr_name.ndim\n",
    "print(\"Size of array1:\",arr1.shape)                    #Checking size of arr1,syntax->arr_name.shape\n",
    "arr2=np.arange(12).reshape(3,4)                        #reshape func to giving order of matrix\n",
    "print(arr2)\n",
    "print(\"Dimension of array2:\",arr2.ndim)\n",
    "print(\"Size of array2:\",arr2.shape)\n"
   ]
  },
  {
   "cell_type": "code",
   "execution_count": 43,
   "metadata": {},
   "outputs": [
    {
     "name": "stdout",
     "output_type": "stream",
     "text": [
      "[ 0  1  2  3  4  5  6  7  8  9 10 11]\n",
      "shape of array1: (12,)\n",
      "dimension of array1: 1\n",
      "\n",
      "\n",
      "[[ 0]\n",
      " [ 1]\n",
      " [ 2]\n",
      " [ 3]\n",
      " [ 4]\n",
      " [ 5]\n",
      " [ 6]\n",
      " [ 7]\n",
      " [ 8]\n",
      " [ 9]\n",
      " [10]\n",
      " [11]]\n",
      "shape of array2: (12, 1)\n",
      "dimension of array2: 2\n",
      "\n",
      "\n",
      "[[ 0  1  2  3  4  5  6  7  8  9 10 11]]\n",
      "shape of array3: (1, 12)\n",
      "dimension of array3: 2\n",
      "\n",
      "\n"
     ]
    }
   ],
   "source": [
    "#Question4 How to convert 1D array to 2D array\n",
    "#Answer4:\n",
    "arr1=np.arange(12)\n",
    "print(arr1)\n",
    "print(\"shape of array1:\",arr1.shape)\n",
    "print(\"dimension of array1:\",arr1.ndim)\n",
    "print(\"\\n\")\n",
    "arr2=arr1[:,np.newaxis]                          #adding newaxis(new dimension),syntax->np.newaxis,it adds new axis\n",
    "print(arr2)\n",
    "print(\"shape of array2:\",arr2.shape)\n",
    "print(\"dimension of array2:\",arr2.ndim)\n",
    "print(\"\\n\")\n",
    "arr3=np.expand_dims(arr1,axis=0)                #adding newaxis at specified position,syntax->np.expand_dims\n",
    "print(arr3)\n",
    "print(\"shape of array3:\",arr3.shape)\n",
    "print(\"dimension of array3:\",arr3.ndim)\n",
    "print(\"\\n\")"
   ]
  },
  {
   "cell_type": "code",
   "execution_count": 57,
   "metadata": {},
   "outputs": [
    {
     "name": "stdout",
     "output_type": "stream",
     "text": [
      "[[1. 0. 0.]\n",
      " [0. 1. 0.]\n",
      " [0. 0. 1.]]\n",
      "[[0. 0. 0.]\n",
      " [0. 0. 0.]\n",
      " [0. 0. 0.]]\n",
      "Vertically Stacked: \n",
      " [[1. 0. 0.]\n",
      " [0. 1. 0.]\n",
      " [0. 0. 1.]\n",
      " [0. 0. 0.]\n",
      " [0. 0. 0.]\n",
      " [0. 0. 0.]]\n",
      "Horizontally Stacked: \n",
      " [[1. 0. 0. 0. 0. 0.]\n",
      " [0. 1. 0. 0. 0. 0.]\n",
      " [0. 0. 1. 0. 0. 0.]]\n"
     ]
    }
   ],
   "source": [
    "#Question5\n",
    "#Answer5:\n",
    "import numpy as np\n",
    "arr1=np.identity(3)\n",
    "print(arr1)\n",
    "arr2=np.zeros((3,3))\n",
    "print(arr2)\n",
    "print(\"Vertically Stacked:\",\"\\n\",np.vstack((arr1,arr2)))\n",
    "print(\"Horizontally Stacked:\",\"\\n\",np.hstack((arr1,arr2)))"
   ]
  },
  {
   "cell_type": "code",
   "execution_count": 66,
   "metadata": {},
   "outputs": [
    {
     "name": "stdout",
     "output_type": "stream",
     "text": [
      "[ 1  2  5  1  8 12 12  5  2  8  7  5  2  1  7]\n",
      "(array([ 1,  2,  5,  7,  8, 12]), array([3, 3, 3, 2, 2, 2], dtype=int64))\n"
     ]
    }
   ],
   "source": [
    "#Question6\n",
    "#Answer6:\n",
    "arr1=np.array([1,2,5,1,8,12,12,5,2,8,7,5,2,1,7])\n",
    "print(arr1)\n",
    "arr2=np.unique(arr1,return_counts=True)                   #this is how we get unique numbers and their frquencies in an array\n",
    "print(arr2)"
   ]
  },
  {
   "cell_type": "code",
   "execution_count": null,
   "metadata": {},
   "outputs": [],
   "source": []
  },
  {
   "cell_type": "code",
   "execution_count": null,
   "metadata": {},
   "outputs": [],
   "source": []
  }
 ],
 "metadata": {
  "kernelspec": {
   "display_name": "Python 3",
   "language": "python",
   "name": "python3"
  },
  "language_info": {
   "codemirror_mode": {
    "name": "ipython",
    "version": 3
   },
   "file_extension": ".py",
   "mimetype": "text/x-python",
   "name": "python",
   "nbconvert_exporter": "python",
   "pygments_lexer": "ipython3",
   "version": "3.7.6"
  }
 },
 "nbformat": 4,
 "nbformat_minor": 4
}
