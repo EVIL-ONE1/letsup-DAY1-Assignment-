{
 "cells": [
  {
   "cell_type": "markdown",
   "metadata": {},
   "source": [
    "#Question1\n",
    "Answer1: Option (B)RAINBOW"
   ]
  },
  {
   "cell_type": "code",
   "execution_count": 1,
   "metadata": {},
   "outputs": [
    {
     "name": "stdout",
     "output_type": "stream",
     "text": [
      "LETS UPGRADE\n"
     ]
    }
   ],
   "source": [
    "#Question2\n",
    "#Answer2:\n",
    "print(\"LETS UPGRADE\")"
   ]
  },
  {
   "cell_type": "code",
   "execution_count": 3,
   "metadata": {},
   "outputs": [
    {
     "name": "stdout",
     "output_type": "stream",
     "text": [
      "20\n",
      "30\n",
      "Profit\n"
     ]
    }
   ],
   "source": [
    "#Question3\n",
    "#Answer3:\n",
    "CP=int(input())\n",
    "SP=int(input())\n",
    "if(SP>CP):\n",
    "    print(\"Profit\")\n",
    "elif(SP<CP):\n",
    "    print(\"Loss\")\n",
    "else:\n",
    "    print(\"Neither\")\n",
    "#sample test case 1\n",
    "    "
   ]
  },
  {
   "cell_type": "code",
   "execution_count": 4,
   "metadata": {},
   "outputs": [
    {
     "name": "stdout",
     "output_type": "stream",
     "text": [
      "20\n",
      "10\n",
      "Loss\n"
     ]
    }
   ],
   "source": [
    "#Question3\n",
    "#Answer3:\n",
    "CP=int(input())\n",
    "SP=int(input())\n",
    "if(SP>CP):\n",
    "    print(\"Profit\")\n",
    "elif(SP<CP):\n",
    "    print(\"Loss\")\n",
    "else:\n",
    "    print(\"Neither\")\n",
    "#sample test case 2"
   ]
  },
  {
   "cell_type": "code",
   "execution_count": 5,
   "metadata": {},
   "outputs": [
    {
     "name": "stdout",
     "output_type": "stream",
     "text": [
      "20\n",
      "20\n",
      "Neither\n"
     ]
    }
   ],
   "source": [
    "#Question3\n",
    "#Answer3:\n",
    "CP=int(input())\n",
    "SP=int(input())\n",
    "if(SP>CP):\n",
    "    print(\"Profit\")\n",
    "elif(SP<CP):\n",
    "    print(\"Loss\")\n",
    "else:\n",
    "    print(\"Neither\")\n",
    "#sample test case 3"
   ]
  },
  {
   "cell_type": "code",
   "execution_count": 10,
   "metadata": {},
   "outputs": [
    {
     "name": "stdout",
     "output_type": "stream",
     "text": [
      "20\n",
      "1600\n"
     ]
    }
   ],
   "source": [
    "#Question4\n",
    "#Answer4:\n",
    "Euro=int(input())\n",
    "Rs=Euro*80\n",
    "print(Rs)\n",
    "#sample test case 1"
   ]
  },
  {
   "cell_type": "code",
   "execution_count": 11,
   "metadata": {},
   "outputs": [
    {
     "name": "stdout",
     "output_type": "stream",
     "text": [
      "50\n",
      "4000\n"
     ]
    }
   ],
   "source": [
    "#Question4\n",
    "#Answer4:\n",
    "Euro=int(input())\n",
    "Rs=Euro*80\n",
    "print(Rs)\n",
    "#sample test case 2"
   ]
  }
 ],
 "metadata": {
  "kernelspec": {
   "display_name": "Python 3",
   "language": "python",
   "name": "python3"
  },
  "language_info": {
   "codemirror_mode": {
    "name": "ipython",
    "version": 3
   },
   "file_extension": ".py",
   "mimetype": "text/x-python",
   "name": "python",
   "nbconvert_exporter": "python",
   "pygments_lexer": "ipython3",
   "version": "3.7.6"
  }
 },
 "nbformat": 4,
 "nbformat_minor": 4
}
